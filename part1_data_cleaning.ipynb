{
 "cells": [
  {
   "cell_type": "code",
   "execution_count": 95,
   "metadata": {},
   "outputs": [],
   "source": [
    "import numpy as np\n",
    "import pandas as pd\n",
    "import matplotlib.pyplot as plt\n",
    "import os\n",
    "import datetime\n",
    "import time\n",
    "# from statistics import multimode\n",
    "import seaborn as sns\n",
    "import plotly.express as px\n",
    "from statsmodels.graphics.factorplots import interaction_plot\n",
    "import statsmodels.api as sm\n",
    "from statsmodels.formula.api import ols\n",
    "from scipy import stats"
   ]
  },
  {
   "cell_type": "markdown",
   "metadata": {},
   "source": [
    "### 1 Read in data"
   ]
  },
  {
   "cell_type": "code",
   "execution_count": 96,
   "metadata": {},
   "outputs": [],
   "source": [
    "data_M_raw=pd.read_csv(\"race_Males.txt\",sep=\"\\t\", encoding='ISO-8859-1')\n",
    "data_F_raw=pd.read_csv(\"race_Females.txt\",sep=\"\\t\")\n"
   ]
  },
  {
   "cell_type": "code",
   "execution_count": 97,
   "metadata": {},
   "outputs": [
    {
     "name": "stdout",
     "output_type": "stream",
     "text": [
      "(1105, 9) Place         int64\n",
      "Div/Tot      object\n",
      "Num           int64\n",
      "Name         object\n",
      "Ag          float64\n",
      "Hometown     object\n",
      "Gun Tim      object\n",
      "Net Tim      object\n",
      "Pace         object\n",
      "dtype: object\n",
      "########\n",
      "(1265, 9) Place         int64\n",
      "Div/Tot      object\n",
      "Num           int64\n",
      "Name         object\n",
      "Ag          float64\n",
      "Hometown     object\n",
      "Gun Tim      object\n",
      "Net Tim      object\n",
      "Pace         object\n",
      "dtype: object\n"
     ]
    }
   ],
   "source": [
    "print(data_F_raw.shape,data_F_raw.dtypes)\n",
    "print('########')\n",
    "print(data_M_raw.shape,data_M_raw.dtypes)"
   ]
  },
  {
   "cell_type": "markdown",
   "metadata": {},
   "source": [
    "### 2 Data cleaning\n",
    "#### Missing data"
   ]
  },
  {
   "cell_type": "code",
   "execution_count": 98,
   "metadata": {},
   "outputs": [
    {
     "name": "stdout",
     "output_type": "stream",
     "text": [
      "          Total   Percent\n",
      "Div/Tot       2  0.180995\n",
      "Ag            1  0.090498\n",
      "Pace          0  0.000000\n",
      "Net Tim       0  0.000000\n",
      "Gun Tim       0  0.000000\n",
      "Hometown      0  0.000000\n",
      "Name          0  0.000000\n",
      "Num           0  0.000000\n",
      "Place         0  0.000000\n",
      "########\n",
      "          Total   Percent\n",
      "Div/Tot       2  0.158103\n",
      "Ag            1  0.079051\n",
      "Pace          0  0.000000\n",
      "Net Tim       0  0.000000\n",
      "Gun Tim       0  0.000000\n",
      "Hometown      0  0.000000\n",
      "Name          0  0.000000\n",
      "Num           0  0.000000\n",
      "Place         0  0.000000\n"
     ]
    }
   ],
   "source": [
    "# check missing data\n",
    "def missing_data(data):\n",
    "    '''check missing data'''\n",
    "    total = data.isnull().sum().sort_values(ascending = False)\n",
    "    percent = (data.isnull().sum()/data.isnull().count()*100).sort_values(ascending = False)\n",
    "    return pd.concat([total, percent], axis=1, keys=['Total', 'Percent'])\n",
    "\n",
    "print(missing_data(data_F_raw))\n",
    "print('########')\n",
    "print(missing_data(data_M_raw))"
   ]
  },
  {
   "cell_type": "markdown",
   "metadata": {},
   "source": [
    "Div/Tot and Ag have a small amount of missing data in both files"
   ]
  },
  {
   "cell_type": "code",
   "execution_count": 99,
   "metadata": {},
   "outputs": [
    {
     "name": "stdout",
     "output_type": "stream",
     "text": [
      "     Place Div/Tot   Num            Name   Ag        Hometown Gun Tim Net Tim  \\\n",
      "525    526     NaN  2003      Chris Nash  0.0  Brookeville MD   51:04   49:35   \n",
      "724    725     NaN  1999  Alan Nadelbach  NaN     Columbia MD   54:16   52:56   \n",
      "\n",
      "     Pace  \n",
      "525  7:59  \n",
      "724  8:32  \n",
      "################################################\n",
      "     Place Div/Tot   Num             Name   Ag         Hometown  Gun Tim  \\\n",
      "964    965     NaN   201    Carla Sabloff  0.0        Mclean VA  1:13:38   \n",
      "979    980     NaN  2843  Susan Rasmussen  NaN  Gaithersburg MD  1:14:51   \n",
      "\n",
      "     Net Tim   Pace  \n",
      "964  1:08:29  11:02  \n",
      "979  1:09:34  11:12  \n"
     ]
    }
   ],
   "source": [
    "# print na entries\n",
    "print(data_M_raw.loc[data_M_raw['Div/Tot'].isna(),:])\n",
    "print('################################################')\n",
    "print(data_F_raw.loc[data_F_raw['Div/Tot'].isna(),:])"
   ]
  },
  {
   "cell_type": "markdown",
   "metadata": {},
   "source": [
    "from above we can see that the 4 racers have both missing/wrong age and Div/Tot, so we should remove them from the dataset"
   ]
  },
  {
   "cell_type": "code",
   "execution_count": 100,
   "metadata": {},
   "outputs": [],
   "source": [
    "data_F_raw = data_F_raw.loc[data_F_raw['Div/Tot'].notna(),:].copy().reset_index()\n",
    "data_M_raw = data_M_raw.loc[data_M_raw['Div/Tot'].notna(),:].copy().reset_index()"
   ]
  },
  {
   "cell_type": "markdown",
   "metadata": {},
   "source": [
    "#### Clean guntime and Hometown"
   ]
  },
  {
   "cell_type": "code",
   "execution_count": 101,
   "metadata": {},
   "outputs": [
    {
     "name": "stdout",
     "output_type": "stream",
     "text": [
      "137\n",
      "    index  Place Div/Tot   Num                  Name    Ag         Hometown  \\\n",
      "30     30     31   5/173  2153          Emily Pierce  30.0  Silver Spring M   \n",
      "33     33     34    7/86  1852  Marycolle Mcallister  22.0  Silver Spring M   \n",
      "37     37     38   7/247  1561     Christina Kichula  35.0  Silver Spring M   \n",
      "45     45     46  10/247  2727        Paige Waterman  38.0  Silver Spring M   \n",
      "58     58     59    7/26  1655      Krisztina Larson  19.0  Silver Spring M   \n",
      "\n",
      "      Gun Tim Net Tim  Pace  \n",
      "30  D   42:03   41:56  6:45  \n",
      "33  D   43:24   42:19  6:49  \n",
      "37  D   44:00   42:58  6:55  \n",
      "45  D   45:01   43:51  7:04  \n",
      "58  D   46:03   44:59  7:15  \n"
     ]
    }
   ],
   "source": [
    "# find out rows with messed up guntime in MA_Exer_PikesPeak_Females\n",
    "print(len(data_F_raw.loc[data_F_raw['Gun Tim'].str.match(r'[A-Z]'),'Gun Tim']))\n",
    "mess = data_F_raw.loc[data_F_raw['Gun Tim'].str.match(r'[A-Z]'),:]\n",
    "\n",
    "print(mess.head())\n"
   ]
  },
  {
   "cell_type": "code",
   "execution_count": 102,
   "metadata": {},
   "outputs": [],
   "source": [
    "# revise hometown\n",
    "data_F_raw.loc[:,'Hometown'] = np.where(data_F_raw['Gun Tim'].str.match(r'^[A-Z]'),\\\n",
    "            data_F_raw['Hometown']+data_F_raw['Gun Tim'].apply(lambda x:x[0]),data_F_raw['Hometown'])"
   ]
  },
  {
   "cell_type": "code",
   "execution_count": 103,
   "metadata": {},
   "outputs": [],
   "source": [
    "# revise gun time\n",
    "data_F_raw.loc[:,'Gun Tim'] = data_F_raw.loc[:,'Gun Tim'].apply(lambda x:x[-8:])"
   ]
  },
  {
   "cell_type": "markdown",
   "metadata": {},
   "source": [
    "#### Clean age error\n",
    "There are a few racers have age of -1 and 1, which maybe mistakes, we can find their devisions and replace them with the median age of their division"
   ]
  },
  {
   "cell_type": "code",
   "execution_count": 104,
   "metadata": {},
   "outputs": [
    {
     "data": {
      "text/html": [
       "<div>\n",
       "<style scoped>\n",
       "    .dataframe tbody tr th:only-of-type {\n",
       "        vertical-align: middle;\n",
       "    }\n",
       "\n",
       "    .dataframe tbody tr th {\n",
       "        vertical-align: top;\n",
       "    }\n",
       "\n",
       "    .dataframe thead th {\n",
       "        text-align: right;\n",
       "    }\n",
       "</style>\n",
       "<table border=\"1\" class=\"dataframe\">\n",
       "  <thead>\n",
       "    <tr style=\"text-align: right;\">\n",
       "      <th></th>\n",
       "      <th>index</th>\n",
       "      <th>Place</th>\n",
       "      <th>Div/Tot</th>\n",
       "      <th>Num</th>\n",
       "      <th>Name</th>\n",
       "      <th>Ag</th>\n",
       "      <th>Hometown</th>\n",
       "      <th>Gun Tim</th>\n",
       "      <th>Net Tim</th>\n",
       "      <th>Pace</th>\n",
       "    </tr>\n",
       "  </thead>\n",
       "  <tbody>\n",
       "    <tr>\n",
       "      <th>382</th>\n",
       "      <td>382</td>\n",
       "      <td>383</td>\n",
       "      <td>4/15</td>\n",
       "      <td>1917</td>\n",
       "      <td>Stefanie Merritt</td>\n",
       "      <td>-1.0</td>\n",
       "      <td>Alexandria VA</td>\n",
       "      <td>55:33</td>\n",
       "      <td>54:22*</td>\n",
       "      <td>8:45</td>\n",
       "    </tr>\n",
       "    <tr>\n",
       "      <th>1006</th>\n",
       "      <td>1008</td>\n",
       "      <td>1009</td>\n",
       "      <td>15/15</td>\n",
       "      <td>1778</td>\n",
       "      <td>Susan Mackey</td>\n",
       "      <td>-1.0</td>\n",
       "      <td>North Potomac MD</td>\n",
       "      <td>1:16:36</td>\n",
       "      <td>1:11:18*</td>\n",
       "      <td>11:29</td>\n",
       "    </tr>\n",
       "  </tbody>\n",
       "</table>\n",
       "</div>"
      ],
      "text/plain": [
       "      index  Place Div/Tot   Num              Name   Ag          Hometown  \\\n",
       "382     382    383    4/15  1917  Stefanie Merritt -1.0     Alexandria VA   \n",
       "1006   1008   1009   15/15  1778      Susan Mackey -1.0  North Potomac MD   \n",
       "\n",
       "       Gun Tim   Net Tim   Pace  \n",
       "382      55:33    54:22*   8:45  \n",
       "1006   1:16:36  1:11:18*  11:29  "
      ]
     },
     "execution_count": 104,
     "metadata": {},
     "output_type": "execute_result"
    }
   ],
   "source": [
    "data_F_raw.loc[data_F_raw.Ag ==-1,: ]"
   ]
  },
  {
   "cell_type": "code",
   "execution_count": 105,
   "metadata": {},
   "outputs": [
    {
     "data": {
      "text/html": [
       "<div>\n",
       "<style scoped>\n",
       "    .dataframe tbody tr th:only-of-type {\n",
       "        vertical-align: middle;\n",
       "    }\n",
       "\n",
       "    .dataframe tbody tr th {\n",
       "        vertical-align: top;\n",
       "    }\n",
       "\n",
       "    .dataframe thead th {\n",
       "        text-align: right;\n",
       "    }\n",
       "</style>\n",
       "<table border=\"1\" class=\"dataframe\">\n",
       "  <thead>\n",
       "    <tr style=\"text-align: right;\">\n",
       "      <th></th>\n",
       "      <th>index</th>\n",
       "      <th>Place</th>\n",
       "      <th>Div/Tot</th>\n",
       "      <th>Num</th>\n",
       "      <th>Name</th>\n",
       "      <th>Ag</th>\n",
       "      <th>Hometown</th>\n",
       "      <th>Gun Tim</th>\n",
       "      <th>Net Tim</th>\n",
       "      <th>Pace</th>\n",
       "    </tr>\n",
       "  </thead>\n",
       "  <tbody>\n",
       "    <tr>\n",
       "      <th>704</th>\n",
       "      <td>704</td>\n",
       "      <td>705</td>\n",
       "      <td>10/15</td>\n",
       "      <td>1726</td>\n",
       "      <td>Arminda Lima</td>\n",
       "      <td>1.0</td>\n",
       "      <td>Silver Spring MD</td>\n",
       "      <td>1:03:47</td>\n",
       "      <td>1:00:07</td>\n",
       "      <td>9:41</td>\n",
       "    </tr>\n",
       "  </tbody>\n",
       "</table>\n",
       "</div>"
      ],
      "text/plain": [
       "     index  Place Div/Tot   Num          Name   Ag          Hometown  \\\n",
       "704    704    705   10/15  1726  Arminda Lima  1.0  Silver Spring MD   \n",
       "\n",
       "      Gun Tim  Net Tim  Pace  \n",
       "704   1:03:47  1:00:07  9:41  "
      ]
     },
     "execution_count": 105,
     "metadata": {},
     "output_type": "execute_result"
    }
   ],
   "source": [
    "data_F_raw.loc[data_F_raw.Ag ==1,: ]\n"
   ]
  },
  {
   "cell_type": "code",
   "execution_count": 106,
   "metadata": {},
   "outputs": [
    {
     "data": {
      "text/html": [
       "<div>\n",
       "<style scoped>\n",
       "    .dataframe tbody tr th:only-of-type {\n",
       "        vertical-align: middle;\n",
       "    }\n",
       "\n",
       "    .dataframe tbody tr th {\n",
       "        vertical-align: top;\n",
       "    }\n",
       "\n",
       "    .dataframe thead th {\n",
       "        text-align: right;\n",
       "    }\n",
       "</style>\n",
       "<table border=\"1\" class=\"dataframe\">\n",
       "  <thead>\n",
       "    <tr style=\"text-align: right;\">\n",
       "      <th></th>\n",
       "      <th>index</th>\n",
       "      <th>Place</th>\n",
       "      <th>Div/Tot</th>\n",
       "      <th>Num</th>\n",
       "      <th>Name</th>\n",
       "      <th>Ag</th>\n",
       "      <th>Hometown</th>\n",
       "      <th>Gun Tim</th>\n",
       "      <th>Net Tim</th>\n",
       "      <th>Pace</th>\n",
       "    </tr>\n",
       "  </thead>\n",
       "  <tbody>\n",
       "    <tr>\n",
       "      <th>789</th>\n",
       "      <td>791</td>\n",
       "      <td>792</td>\n",
       "      <td>15/28</td>\n",
       "      <td>1555</td>\n",
       "      <td>Jon Kesler</td>\n",
       "      <td>-1.0</td>\n",
       "      <td>Silver Spring MD</td>\n",
       "      <td>59:20</td>\n",
       "      <td>54:06</td>\n",
       "      <td>8:43</td>\n",
       "    </tr>\n",
       "    <tr>\n",
       "      <th>1207</th>\n",
       "      <td>1209</td>\n",
       "      <td>1210</td>\n",
       "      <td>26/28</td>\n",
       "      <td>556</td>\n",
       "      <td>Chris Barr</td>\n",
       "      <td>-1.0</td>\n",
       "      <td>Germantown MD</td>\n",
       "      <td>1:15:39</td>\n",
       "      <td>1:10:30</td>\n",
       "      <td>11:21</td>\n",
       "    </tr>\n",
       "  </tbody>\n",
       "</table>\n",
       "</div>"
      ],
      "text/plain": [
       "      index  Place Div/Tot   Num        Name   Ag          Hometown  Gun Tim  \\\n",
       "789     791    792   15/28  1555  Jon Kesler -1.0  Silver Spring MD    59:20   \n",
       "1207   1209   1210   26/28   556  Chris Barr -1.0     Germantown MD  1:15:39   \n",
       "\n",
       "      Net Tim   Pace  \n",
       "789     54:06   8:43  \n",
       "1207  1:10:30  11:21  "
      ]
     },
     "execution_count": 106,
     "metadata": {},
     "output_type": "execute_result"
    }
   ],
   "source": [
    "data_M_raw.loc[data_M_raw.Ag ==-1,: ]"
   ]
  },
  {
   "cell_type": "code",
   "execution_count": 107,
   "metadata": {},
   "outputs": [],
   "source": [
    "data_M_raw.loc[(data_M_raw['Div/Tot'].str.match('.*/28'))&(data_M_raw[\"Ag\"]<0),\"Ag\"] = \\\n",
    "            np.median(data_M_raw.loc[data_M_raw['Div/Tot'].str.match('.*/28')&(data_M_raw[\"Ag\"]>0),\"Ag\"])\n",
    "data_F_raw.loc[(data_F_raw['Div/Tot'].str.match('.*/15'))&(data_F_raw[\"Ag\"]<2),\"Ag\"] = \\\n",
    "            np.median(data_F_raw.loc[data_F_raw['Div/Tot'].str.match('.*/28')&(data_F_raw[\"Ag\"]>2),\"Ag\"])\n"
   ]
  },
  {
   "cell_type": "markdown",
   "metadata": {},
   "source": [
    "#### Combining Female and Male Data"
   ]
  },
  {
   "cell_type": "code",
   "execution_count": 108,
   "metadata": {},
   "outputs": [
    {
     "data": {
      "text/plain": [
       "(2366, 11)"
      ]
     },
     "execution_count": 108,
     "metadata": {},
     "output_type": "execute_result"
    }
   ],
   "source": [
    "data_F_raw['gender'] = 'F'\n",
    "data_M_raw['gender'] = 'M'\n",
    "df = data_M_raw.append(data_F_raw,ignore_index=True)\n",
    "df.shape"
   ]
  },
  {
   "cell_type": "markdown",
   "metadata": {},
   "source": [
    "#### Add a new column as division based on the cleaned age"
   ]
  },
  {
   "cell_type": "code",
   "execution_count": 109,
   "metadata": {},
   "outputs": [],
   "source": [
    "df[\"div\"] = np.where(df[\"Ag\"]<15,\"0-14\",np.where(df[\"Ag\"]<20,\"15-19\",df[\"Ag\"].apply(lambda x:f\"{int(x)//10}0-{int(x)//10}9\")))"
   ]
  },
  {
   "cell_type": "code",
   "execution_count": 110,
   "metadata": {},
   "outputs": [
    {
     "data": {
      "text/html": [
       "<div>\n",
       "<style scoped>\n",
       "    .dataframe tbody tr th:only-of-type {\n",
       "        vertical-align: middle;\n",
       "    }\n",
       "\n",
       "    .dataframe tbody tr th {\n",
       "        vertical-align: top;\n",
       "    }\n",
       "\n",
       "    .dataframe thead th {\n",
       "        text-align: right;\n",
       "    }\n",
       "</style>\n",
       "<table border=\"1\" class=\"dataframe\">\n",
       "  <thead>\n",
       "    <tr style=\"text-align: right;\">\n",
       "      <th></th>\n",
       "      <th>div</th>\n",
       "      <th>Count</th>\n",
       "    </tr>\n",
       "  </thead>\n",
       "  <tbody>\n",
       "    <tr>\n",
       "      <th>0</th>\n",
       "      <td>0-14</td>\n",
       "      <td>40</td>\n",
       "    </tr>\n",
       "    <tr>\n",
       "      <th>1</th>\n",
       "      <td>15-19</td>\n",
       "      <td>71</td>\n",
       "    </tr>\n",
       "    <tr>\n",
       "      <th>2</th>\n",
       "      <td>20-29</td>\n",
       "      <td>372</td>\n",
       "    </tr>\n",
       "    <tr>\n",
       "      <th>3</th>\n",
       "      <td>30-39</td>\n",
       "      <td>766</td>\n",
       "    </tr>\n",
       "    <tr>\n",
       "      <th>4</th>\n",
       "      <td>40-49</td>\n",
       "      <td>698</td>\n",
       "    </tr>\n",
       "    <tr>\n",
       "      <th>5</th>\n",
       "      <td>50-59</td>\n",
       "      <td>312</td>\n",
       "    </tr>\n",
       "    <tr>\n",
       "      <th>6</th>\n",
       "      <td>60-69</td>\n",
       "      <td>93</td>\n",
       "    </tr>\n",
       "    <tr>\n",
       "      <th>7</th>\n",
       "      <td>70-79</td>\n",
       "      <td>12</td>\n",
       "    </tr>\n",
       "    <tr>\n",
       "      <th>8</th>\n",
       "      <td>80-89</td>\n",
       "      <td>2</td>\n",
       "    </tr>\n",
       "  </tbody>\n",
       "</table>\n",
       "</div>"
      ],
      "text/plain": [
       "     div  Count\n",
       "0   0-14     40\n",
       "1  15-19     71\n",
       "2  20-29    372\n",
       "3  30-39    766\n",
       "4  40-49    698\n",
       "5  50-59    312\n",
       "6  60-69     93\n",
       "7  70-79     12\n",
       "8  80-89      2"
      ]
     },
     "execution_count": 110,
     "metadata": {},
     "output_type": "execute_result"
    }
   ],
   "source": [
    "df[[\"div\",\"Place\"]].groupby(['div'],as_index=False).count().rename(columns={\"Place\":\"Count\"})"
   ]
  },
  {
   "cell_type": "markdown",
   "metadata": {},
   "source": [
    "#### Clean up the time columns\n",
    "Change them as minutes"
   ]
  },
  {
   "cell_type": "code",
   "execution_count": 111,
   "metadata": {},
   "outputs": [
    {
     "data": {
      "text/html": [
       "<div>\n",
       "<style scoped>\n",
       "    .dataframe tbody tr th:only-of-type {\n",
       "        vertical-align: middle;\n",
       "    }\n",
       "\n",
       "    .dataframe tbody tr th {\n",
       "        vertical-align: top;\n",
       "    }\n",
       "\n",
       "    .dataframe thead th {\n",
       "        text-align: right;\n",
       "    }\n",
       "</style>\n",
       "<table border=\"1\" class=\"dataframe\">\n",
       "  <thead>\n",
       "    <tr style=\"text-align: right;\">\n",
       "      <th></th>\n",
       "      <th>Place</th>\n",
       "      <th>Num</th>\n",
       "      <th>Name</th>\n",
       "      <th>Ag</th>\n",
       "      <th>Hometown</th>\n",
       "      <th>Gun Tim</th>\n",
       "      <th>Net Tim</th>\n",
       "      <th>Pace</th>\n",
       "      <th>gender</th>\n",
       "      <th>div</th>\n",
       "    </tr>\n",
       "  </thead>\n",
       "  <tbody>\n",
       "    <tr>\n",
       "      <th>0</th>\n",
       "      <td>1</td>\n",
       "      <td>9</td>\n",
       "      <td>Joshua Kemei</td>\n",
       "      <td>22.0</td>\n",
       "      <td>Kenya .</td>\n",
       "      <td>28:48</td>\n",
       "      <td>28:47</td>\n",
       "      <td>4:38</td>\n",
       "      <td>M</td>\n",
       "      <td>20-29</td>\n",
       "    </tr>\n",
       "    <tr>\n",
       "      <th>1</th>\n",
       "      <td>2</td>\n",
       "      <td>35</td>\n",
       "      <td>George Kirwa Misoi</td>\n",
       "      <td>22.0</td>\n",
       "      <td>Kenya .</td>\n",
       "      <td>29:11</td>\n",
       "      <td>29:10</td>\n",
       "      <td>4:42</td>\n",
       "      <td>M</td>\n",
       "      <td>20-29</td>\n",
       "    </tr>\n",
       "    <tr>\n",
       "      <th>2</th>\n",
       "      <td>3</td>\n",
       "      <td>3</td>\n",
       "      <td>Jacob Frey</td>\n",
       "      <td>24.0</td>\n",
       "      <td>Oakton VA</td>\n",
       "      <td>29:38</td>\n",
       "      <td>29:37</td>\n",
       "      <td>4:46</td>\n",
       "      <td>M</td>\n",
       "      <td>20-29</td>\n",
       "    </tr>\n",
       "    <tr>\n",
       "      <th>3</th>\n",
       "      <td>4</td>\n",
       "      <td>49</td>\n",
       "      <td>Gurmessa Kumsa</td>\n",
       "      <td>27.0</td>\n",
       "      <td>Oxon Hill MD</td>\n",
       "      <td>29:46</td>\n",
       "      <td>29:46</td>\n",
       "      <td>4:48</td>\n",
       "      <td>M</td>\n",
       "      <td>20-29</td>\n",
       "    </tr>\n",
       "    <tr>\n",
       "      <th>4</th>\n",
       "      <td>5</td>\n",
       "      <td>31</td>\n",
       "      <td>Mike Baird</td>\n",
       "      <td>24.0</td>\n",
       "      <td>Ardmore PA</td>\n",
       "      <td>30:31</td>\n",
       "      <td>30:30</td>\n",
       "      <td>4:55</td>\n",
       "      <td>M</td>\n",
       "      <td>20-29</td>\n",
       "    </tr>\n",
       "  </tbody>\n",
       "</table>\n",
       "</div>"
      ],
      "text/plain": [
       "   Place  Num                Name    Ag      Hometown Gun Tim Net Tim  Pace  \\\n",
       "0      1    9        Joshua Kemei  22.0       Kenya .   28:48   28:47  4:38   \n",
       "1      2   35  George Kirwa Misoi  22.0       Kenya .   29:11   29:10  4:42   \n",
       "2      3    3          Jacob Frey  24.0     Oakton VA   29:38   29:37  4:46   \n",
       "3      4   49      Gurmessa Kumsa  27.0  Oxon Hill MD   29:46   29:46  4:48   \n",
       "4      5   31          Mike Baird  24.0    Ardmore PA   30:31   30:30  4:55   \n",
       "\n",
       "  gender    div  \n",
       "0      M  20-29  \n",
       "1      M  20-29  \n",
       "2      M  20-29  \n",
       "3      M  20-29  \n",
       "4      M  20-29  "
      ]
     },
     "execution_count": 111,
     "metadata": {},
     "output_type": "execute_result"
    }
   ],
   "source": [
    " # Remove * and # symbols from net time column\n",
    "df.loc[:,'Net Tim'] = df.loc[:,'Net Tim'].apply(lambda x: x.strip('#*'))\n",
    "# drop index column and the Div/Tot since we create the new div, also drop ori gun time and net time\n",
    "df = df.drop(['index'], axis=1)\n",
    "df = df.drop(['Div/Tot'], axis=1)\n",
    "df.head()"
   ]
  },
  {
   "cell_type": "code",
   "execution_count": 112,
   "metadata": {},
   "outputs": [],
   "source": [
    "# add new columns as minutes from time columns\n",
    "df['gun_s'] = df['Gun Tim'].apply(lambda x: np.sum([int(i)*60**(x.count(\":\")-j-1) for j,i in enumerate(x.split(\":\"))]))\n",
    "df['net_s'] = df['Net Tim'].apply(lambda x: np.sum([int(i)*60**(x.count(\":\")-j-1) for j,i in enumerate(x.split(\":\"))]))\n",
    "df['pace_s'] = df['Pace'].apply(lambda x: np.sum([int(i)*60**(x.count(\":\")-j-1) for j,i in enumerate(x.split(\":\"))]))"
   ]
  },
  {
   "cell_type": "code",
   "execution_count": 113,
   "metadata": {},
   "outputs": [
    {
     "data": {
      "text/html": [
       "<div>\n",
       "<style scoped>\n",
       "    .dataframe tbody tr th:only-of-type {\n",
       "        vertical-align: middle;\n",
       "    }\n",
       "\n",
       "    .dataframe tbody tr th {\n",
       "        vertical-align: top;\n",
       "    }\n",
       "\n",
       "    .dataframe thead th {\n",
       "        text-align: right;\n",
       "    }\n",
       "</style>\n",
       "<table border=\"1\" class=\"dataframe\">\n",
       "  <thead>\n",
       "    <tr style=\"text-align: right;\">\n",
       "      <th></th>\n",
       "      <th>Place</th>\n",
       "      <th>Num</th>\n",
       "      <th>Name</th>\n",
       "      <th>Ag</th>\n",
       "      <th>Hometown</th>\n",
       "      <th>Gun Tim</th>\n",
       "      <th>Net Tim</th>\n",
       "      <th>Pace</th>\n",
       "      <th>gender</th>\n",
       "      <th>div</th>\n",
       "      <th>gun_s</th>\n",
       "      <th>net_s</th>\n",
       "      <th>pace_s</th>\n",
       "    </tr>\n",
       "  </thead>\n",
       "  <tbody>\n",
       "    <tr>\n",
       "      <th>0</th>\n",
       "      <td>1</td>\n",
       "      <td>9</td>\n",
       "      <td>Joshua Kemei</td>\n",
       "      <td>22.0</td>\n",
       "      <td>Kenya .</td>\n",
       "      <td>28:48</td>\n",
       "      <td>28:47</td>\n",
       "      <td>4:38</td>\n",
       "      <td>M</td>\n",
       "      <td>20-29</td>\n",
       "      <td>28.800000</td>\n",
       "      <td>28.783333</td>\n",
       "      <td>4.633333</td>\n",
       "    </tr>\n",
       "    <tr>\n",
       "      <th>1</th>\n",
       "      <td>2</td>\n",
       "      <td>35</td>\n",
       "      <td>George Kirwa Misoi</td>\n",
       "      <td>22.0</td>\n",
       "      <td>Kenya .</td>\n",
       "      <td>29:11</td>\n",
       "      <td>29:10</td>\n",
       "      <td>4:42</td>\n",
       "      <td>M</td>\n",
       "      <td>20-29</td>\n",
       "      <td>29.183333</td>\n",
       "      <td>29.166667</td>\n",
       "      <td>4.700000</td>\n",
       "    </tr>\n",
       "    <tr>\n",
       "      <th>2</th>\n",
       "      <td>3</td>\n",
       "      <td>3</td>\n",
       "      <td>Jacob Frey</td>\n",
       "      <td>24.0</td>\n",
       "      <td>Oakton VA</td>\n",
       "      <td>29:38</td>\n",
       "      <td>29:37</td>\n",
       "      <td>4:46</td>\n",
       "      <td>M</td>\n",
       "      <td>20-29</td>\n",
       "      <td>29.633333</td>\n",
       "      <td>29.616667</td>\n",
       "      <td>4.766667</td>\n",
       "    </tr>\n",
       "    <tr>\n",
       "      <th>3</th>\n",
       "      <td>4</td>\n",
       "      <td>49</td>\n",
       "      <td>Gurmessa Kumsa</td>\n",
       "      <td>27.0</td>\n",
       "      <td>Oxon Hill MD</td>\n",
       "      <td>29:46</td>\n",
       "      <td>29:46</td>\n",
       "      <td>4:48</td>\n",
       "      <td>M</td>\n",
       "      <td>20-29</td>\n",
       "      <td>29.766667</td>\n",
       "      <td>29.766667</td>\n",
       "      <td>4.800000</td>\n",
       "    </tr>\n",
       "    <tr>\n",
       "      <th>4</th>\n",
       "      <td>5</td>\n",
       "      <td>31</td>\n",
       "      <td>Mike Baird</td>\n",
       "      <td>24.0</td>\n",
       "      <td>Ardmore PA</td>\n",
       "      <td>30:31</td>\n",
       "      <td>30:30</td>\n",
       "      <td>4:55</td>\n",
       "      <td>M</td>\n",
       "      <td>20-29</td>\n",
       "      <td>30.516667</td>\n",
       "      <td>30.500000</td>\n",
       "      <td>4.916667</td>\n",
       "    </tr>\n",
       "  </tbody>\n",
       "</table>\n",
       "</div>"
      ],
      "text/plain": [
       "   Place  Num                Name    Ag      Hometown Gun Tim Net Tim  Pace  \\\n",
       "0      1    9        Joshua Kemei  22.0       Kenya .   28:48   28:47  4:38   \n",
       "1      2   35  George Kirwa Misoi  22.0       Kenya .   29:11   29:10  4:42   \n",
       "2      3    3          Jacob Frey  24.0     Oakton VA   29:38   29:37  4:46   \n",
       "3      4   49      Gurmessa Kumsa  27.0  Oxon Hill MD   29:46   29:46  4:48   \n",
       "4      5   31          Mike Baird  24.0    Ardmore PA   30:31   30:30  4:55   \n",
       "\n",
       "  gender    div      gun_s      net_s    pace_s  \n",
       "0      M  20-29  28.800000  28.783333  4.633333  \n",
       "1      M  20-29  29.183333  29.166667  4.700000  \n",
       "2      M  20-29  29.633333  29.616667  4.766667  \n",
       "3      M  20-29  29.766667  29.766667  4.800000  \n",
       "4      M  20-29  30.516667  30.500000  4.916667  "
      ]
     },
     "execution_count": 113,
     "metadata": {},
     "output_type": "execute_result"
    }
   ],
   "source": [
    "df.head()"
   ]
  },
  {
   "cell_type": "code",
   "execution_count": 114,
   "metadata": {},
   "outputs": [
    {
     "data": {
      "text/html": [
       "<div>\n",
       "<style scoped>\n",
       "    .dataframe tbody tr th:only-of-type {\n",
       "        vertical-align: middle;\n",
       "    }\n",
       "\n",
       "    .dataframe tbody tr th {\n",
       "        vertical-align: top;\n",
       "    }\n",
       "\n",
       "    .dataframe thead th {\n",
       "        text-align: right;\n",
       "    }\n",
       "</style>\n",
       "<table border=\"1\" class=\"dataframe\">\n",
       "  <thead>\n",
       "    <tr style=\"text-align: right;\">\n",
       "      <th></th>\n",
       "      <th>Place</th>\n",
       "      <th>Num</th>\n",
       "      <th>Name</th>\n",
       "      <th>Ag</th>\n",
       "      <th>Hometown</th>\n",
       "      <th>gender</th>\n",
       "      <th>div</th>\n",
       "      <th>gun_s</th>\n",
       "      <th>net_s</th>\n",
       "      <th>pace_s</th>\n",
       "    </tr>\n",
       "  </thead>\n",
       "  <tbody>\n",
       "    <tr>\n",
       "      <th>0</th>\n",
       "      <td>1</td>\n",
       "      <td>9</td>\n",
       "      <td>Joshua Kemei</td>\n",
       "      <td>22.0</td>\n",
       "      <td>Kenya .</td>\n",
       "      <td>M</td>\n",
       "      <td>20-29</td>\n",
       "      <td>28.800000</td>\n",
       "      <td>28.783333</td>\n",
       "      <td>4.633333</td>\n",
       "    </tr>\n",
       "    <tr>\n",
       "      <th>1</th>\n",
       "      <td>2</td>\n",
       "      <td>35</td>\n",
       "      <td>George Kirwa Misoi</td>\n",
       "      <td>22.0</td>\n",
       "      <td>Kenya .</td>\n",
       "      <td>M</td>\n",
       "      <td>20-29</td>\n",
       "      <td>29.183333</td>\n",
       "      <td>29.166667</td>\n",
       "      <td>4.700000</td>\n",
       "    </tr>\n",
       "    <tr>\n",
       "      <th>2</th>\n",
       "      <td>3</td>\n",
       "      <td>3</td>\n",
       "      <td>Jacob Frey</td>\n",
       "      <td>24.0</td>\n",
       "      <td>Oakton VA</td>\n",
       "      <td>M</td>\n",
       "      <td>20-29</td>\n",
       "      <td>29.633333</td>\n",
       "      <td>29.616667</td>\n",
       "      <td>4.766667</td>\n",
       "    </tr>\n",
       "    <tr>\n",
       "      <th>3</th>\n",
       "      <td>4</td>\n",
       "      <td>49</td>\n",
       "      <td>Gurmessa Kumsa</td>\n",
       "      <td>27.0</td>\n",
       "      <td>Oxon Hill MD</td>\n",
       "      <td>M</td>\n",
       "      <td>20-29</td>\n",
       "      <td>29.766667</td>\n",
       "      <td>29.766667</td>\n",
       "      <td>4.800000</td>\n",
       "    </tr>\n",
       "    <tr>\n",
       "      <th>4</th>\n",
       "      <td>5</td>\n",
       "      <td>31</td>\n",
       "      <td>Mike Baird</td>\n",
       "      <td>24.0</td>\n",
       "      <td>Ardmore PA</td>\n",
       "      <td>M</td>\n",
       "      <td>20-29</td>\n",
       "      <td>30.516667</td>\n",
       "      <td>30.500000</td>\n",
       "      <td>4.916667</td>\n",
       "    </tr>\n",
       "  </tbody>\n",
       "</table>\n",
       "</div>"
      ],
      "text/plain": [
       "   Place  Num                Name    Ag      Hometown gender    div  \\\n",
       "0      1    9        Joshua Kemei  22.0       Kenya .      M  20-29   \n",
       "1      2   35  George Kirwa Misoi  22.0       Kenya .      M  20-29   \n",
       "2      3    3          Jacob Frey  24.0     Oakton VA      M  20-29   \n",
       "3      4   49      Gurmessa Kumsa  27.0  Oxon Hill MD      M  20-29   \n",
       "4      5   31          Mike Baird  24.0    Ardmore PA      M  20-29   \n",
       "\n",
       "       gun_s      net_s    pace_s  \n",
       "0  28.800000  28.783333  4.633333  \n",
       "1  29.183333  29.166667  4.700000  \n",
       "2  29.633333  29.616667  4.766667  \n",
       "3  29.766667  29.766667  4.800000  \n",
       "4  30.516667  30.500000  4.916667  "
      ]
     },
     "execution_count": 114,
     "metadata": {},
     "output_type": "execute_result"
    }
   ],
   "source": [
    "# drop ori gun time and net time, pace\n",
    "df = df.drop(['Gun Tim'], axis=1)\n",
    "df = df.drop(['Net Tim'], axis=1)\n",
    "df = df.drop(['Pace'], axis=1)\n",
    "df.head()"
   ]
  },
  {
   "cell_type": "code",
   "execution_count": 115,
   "metadata": {},
   "outputs": [],
   "source": [
    "# get cleaned data by gender\n",
    "df_f = df.loc[df.gender=='F',:].copy()\n",
    "df_m = df.loc[df.gender=='M',:].copy()"
   ]
  },
  {
   "cell_type": "code",
   "execution_count": 116,
   "metadata": {},
   "outputs": [
    {
     "name": "stdout",
     "output_type": "stream",
     "text": [
      "2366\n",
      "1103\n",
      "1263\n",
      "9.0\n",
      "84.0\n"
     ]
    }
   ],
   "source": [
    "print(df.shape[0])\n",
    "print(df_f.shape[0])\n",
    "print(df_m.shape[0])\n",
    "print(min(df.Ag))\n",
    "print(max(df.Ag))"
   ]
  },
  {
   "cell_type": "code",
   "execution_count": 117,
   "metadata": {},
   "outputs": [],
   "source": [
    "# save cleaned data\n",
    "df.to_csv('cleaned_df.csv', index=False)"
   ]
  },
  {
   "cell_type": "code",
   "execution_count": null,
   "metadata": {},
   "outputs": [],
   "source": []
  }
 ],
 "metadata": {
  "kernelspec": {
   "display_name": "Python 3",
   "language": "python",
   "name": "python3"
  },
  "language_info": {
   "codemirror_mode": {
    "name": "ipython",
    "version": 3
   },
   "file_extension": ".py",
   "mimetype": "text/x-python",
   "name": "python",
   "nbconvert_exporter": "python",
   "pygments_lexer": "ipython3",
   "version": "3.6.8"
  }
 },
 "nbformat": 4,
 "nbformat_minor": 2
}
